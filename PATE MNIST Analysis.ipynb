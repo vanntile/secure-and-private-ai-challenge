{
 "cells": [
  {
   "cell_type": "markdown",
   "metadata": {},
   "source": [
    "# PATE MNIST Analysis\n",
    "**TLDR**: train a DP (defferential privacy) model using this PATE method on the MNIST dataset.\n",
    "\n",
    "Task: Assume we have a private unlabaled dataset and access to external models trained to similar datasets and with a common interface. We want to train our model on our dataset using the predictions of the others for labeling, while keeping the external models's data and our own within some privacy parameters.\n",
    "\n",
    "Here we simulate the whole process, from the training of the external datasets to our own and measuring the epsilon-privacy using PATE."
   ]
  },
  {
   "cell_type": "markdown",
   "metadata": {},
   "source": [
    "## 1. Setup"
   ]
  },
  {
   "cell_type": "code",
   "execution_count": 1,
   "metadata": {},
   "outputs": [
    {
     "name": "stderr",
     "output_type": "stream",
     "text": [
      "WARNING: Logging before flag parsing goes to stderr.\n",
      "W0809 17:28:48.983058 140361009932096 secure_random.py:26] Falling back to insecure randomness since the required custom op could not be found for the installed version of TensorFlow. Fix this by compiling custom ops. Missing file was '/home/vanntile/.local/lib/python3.6/site-packages/tf_encrypted/operations/secure_random/secure_random_module_tf_1.14.0.so'\n",
      "W0809 17:28:48.995250 140361009932096 deprecation_wrapper.py:119] From /home/vanntile/.local/lib/python3.6/site-packages/tf_encrypted/session.py:26: The name tf.Session is deprecated. Please use tf.compat.v1.Session instead.\n",
      "\n"
     ]
    }
   ],
   "source": [
    "import numpy as np\n",
    "import matplotlib.pyplot as plt\n",
    "\n",
    "import torch\n",
    "from torch import nn\n",
    "from torch import optim\n",
    "import torch.nn.functional as F\n",
    "from torchvision import datasets, transforms\n",
    "from torch.utils.data.sampler import SubsetRandomSampler\n",
    "from syft.frameworks.torch.differential_privacy import pate\n",
    "\n",
    "import helper"
   ]
  },
  {
   "cell_type": "markdown",
   "metadata": {},
   "source": [
    "## 2. Define a feedforward neural network"
   ]
  },
  {
   "cell_type": "code",
   "execution_count": 2,
   "metadata": {},
   "outputs": [],
   "source": [
    "# Network is a typical feedforward neural network\n",
    "class Network(nn.Module):\n",
    "    def __init__(self, input_size, output_size, hidden_layers, drop_p=0.5):\n",
    "        ''' Builds a feedforward network with arbitrary hidden layers.\n",
    "        \n",
    "            Arguments\n",
    "            ---------\n",
    "            input_size: integer, size of the input layer\n",
    "            output_size: integer, size of the output layer\n",
    "            hidden_layers: list of integers, the sizes of the hidden layers\n",
    "        \n",
    "        '''\n",
    "        super().__init__()\n",
    "        # Input to a hidden layer\n",
    "        self.hidden_layers = nn.ModuleList([nn.Linear(input_size, hidden_layers[0])])\n",
    "        \n",
    "        # Add a variable number of more hidden layers\n",
    "        layer_sizes = zip(hidden_layers[:-1], hidden_layers[1:])\n",
    "        self.hidden_layers.extend([nn.Linear(h1, h2) for h1, h2 in layer_sizes])\n",
    "        \n",
    "        self.output = nn.Linear(hidden_layers[-1], output_size)\n",
    "        \n",
    "        self.dropout = nn.Dropout(p=drop_p)\n",
    "        \n",
    "    def forward(self, x):\n",
    "        ''' Forward pass through the network, returns the output logits '''\n",
    "        \n",
    "        for each in self.hidden_layers:\n",
    "            x = F.relu(each(x))\n",
    "            x = self.dropout(x)\n",
    "        x = self.output(x)\n",
    "        \n",
    "        return F.log_softmax(x, dim=1)"
   ]
  },
  {
   "cell_type": "code",
   "execution_count": 3,
   "metadata": {},
   "outputs": [],
   "source": [
    "def validation(model, testloader, criterion):\n",
    "    accuracy = 0\n",
    "    test_loss = 0\n",
    "    \n",
    "    device = torch.device(\"cuda\" if torch.cuda.is_available() else \"cpu\")\n",
    "    \n",
    "    for images, labels in testloader:\n",
    "        images, labels = images.to(device), labels.to(device) # training on CUDA, if possible\n",
    "\n",
    "        images = images.resize_(images.size()[0], 784)\n",
    "\n",
    "        output = model.forward(images)\n",
    "        test_loss += criterion(output, labels).item()\n",
    "\n",
    "        ## Calculating the accuracy \n",
    "        # Model's output is log-softmax, take exponential to get the probabilities\n",
    "        ps = torch.exp(output)\n",
    "        # Class with highest probability is our predicted class, compare with true label\n",
    "        equality = (labels.data == ps.max(1)[1])\n",
    "        # Accuracy is number of correct predictions divided by all predictions, just take the mean\n",
    "        accuracy += equality.type_as(torch.FloatTensor()).mean()\n",
    "\n",
    "    return test_loss, accuracy"
   ]
  },
  {
   "cell_type": "code",
   "execution_count": 4,
   "metadata": {},
   "outputs": [],
   "source": [
    "def train(model, trainloader, testloader, criterion, optimizer, epochs=5, print_every=60):\n",
    "    steps = 0\n",
    "    running_loss = 0\n",
    "    \n",
    "    accuracies = []\n",
    "    \n",
    "    device = torch.device(\"cuda\" if torch.cuda.is_available() else \"cpu\")\n",
    "    \n",
    "    for e in range(epochs):\n",
    "        print(\"Epoch: {}/{}.. \".format(e+1, epochs))\n",
    "        # Model in training mode, dropout is on\n",
    "        model.train()\n",
    "        for images, labels in trainloader:\n",
    "            images, labels = images.to(device), labels.to(device) # training on CUDA, if possible\n",
    "        \n",
    "            steps += 1\n",
    "            \n",
    "            # Flatten images into a 784 long vector\n",
    "            images.resize_(images.size()[0], 784)\n",
    "            \n",
    "            optimizer.zero_grad()\n",
    "            \n",
    "            output = model.forward(images)\n",
    "            loss = criterion(output, labels)\n",
    "            loss.backward()\n",
    "            optimizer.step()\n",
    "            \n",
    "            running_loss += loss.item()\n",
    "\n",
    "            if steps % print_every == 0:\n",
    "                # Model in inference mode, dropout is off\n",
    "                model.eval()\n",
    "                \n",
    "                # Turn off gradients for validation, will speed up inference\n",
    "                with torch.no_grad():\n",
    "                    test_loss, accuracy = validation(model, testloader, criterion)\n",
    "                \n",
    "                accuracies.append(accuracy/len(testloader))\n",
    "                \n",
    "                print(\"Training Loss: {:.4f}.. \".format(running_loss/print_every),\n",
    "                      \"Test Loss: {:.4f}.. \".format(test_loss/len(testloader)),\n",
    "                      \"Test Accuracy: {:.4f}\".format(accuracy/len(testloader)))\n",
    "                \n",
    "                running_loss = 0\n",
    "                \n",
    "                # Make sure dropout and grads are on for training\n",
    "                model.train()\n",
    "    \n",
    "    return accuracies"
   ]
  },
  {
   "cell_type": "markdown",
   "metadata": {},
   "source": [
    "## 3. Import MNIST data"
   ]
  },
  {
   "cell_type": "code",
   "execution_count": 5,
   "metadata": {},
   "outputs": [],
   "source": [
    "# Split a list into n parts\n",
    "def split(a, n):\n",
    "    k, m = divmod(len(a), n)\n",
    "    return (a[i * k + min(i, m):(i + 1) * k + min(i + 1, m)] for i in range(n))"
   ]
  },
  {
   "cell_type": "code",
   "execution_count": 6,
   "metadata": {},
   "outputs": [],
   "source": [
    "# Define a transform to normalize the data\n",
    "transform = transforms.Compose([transforms.RandomRotation(15), transforms.ToTensor()])\n",
    "\n",
    "# Download the training data\n",
    "dataset_train = datasets.MNIST(root='./MNIST_data', train=True, download=True, transform=transform)\n",
    "\n",
    "# Simulating having multiple separated datasets\n",
    "random_seed = 42\n",
    "no_datasets = 6 # Chosen for easiness, MNIST has 60000 images\n",
    "dataset_size = len(dataset_train)\n",
    "indices = list(range(dataset_size))\n",
    "\n",
    "np.random.seed(random_seed)\n",
    "np.random.shuffle(indices)\n",
    "\n",
    "indices = list(split(indices, no_datasets))\n",
    "\n",
    "# Creating data samplers and loaders:\n",
    "samplers = list()\n",
    "for i in indices:\n",
    "    sampler = SubsetRandomSampler(i)\n",
    "    samplers.append(sampler)\n",
    "\n",
    "train_dataloaders = list()\n",
    "for s in samplers:\n",
    "    loader = torch.utils.data.DataLoader(dataset_train, batch_size=32, sampler=s)\n",
    "    train_dataloaders.append(loader)\n",
    "\n",
    "# Download and load the test data\n",
    "dataset_test = datasets.MNIST(root='./MNIST_data', train=False, download=True, transform=transform)\n",
    "dataloader_test = torch.utils.data.DataLoader(dataset_test, batch_size=32, shuffle=False)"
   ]
  },
  {
   "cell_type": "code",
   "execution_count": 7,
   "metadata": {},
   "outputs": [
    {
     "data": {
      "text/plain": [
       "<matplotlib.axes._subplots.AxesSubplot at 0x7fa7a6cbbdd8>"
      ]
     },
     "execution_count": 7,
     "metadata": {},
     "output_type": "execute_result"
    },
    {
     "data": {
      "image/png": "[encoded data removed]",
      "text/plain": [
       "<Figure size 432x288 with 1 Axes>"
      ]
     },
     "metadata": {
      "needs_background": "light"
     },
     "output_type": "display_data"
    }
   ],
   "source": [
    "images, labels = next(iter(dataloader_test))\n",
    "helper.imshow(images[0,:])"
   ]
  },
  {
   "cell_type": "markdown",
   "metadata": {},
   "source": [
    "## 4. Train the models"
   ]
  },
  {
   "cell_type": "code",
   "execution_count": 8,
   "metadata": {},
   "outputs": [
    {
     "name": "stdout",
     "output_type": "stream",
     "text": [
      "=== Model #1/6 ===\n",
      "Epoch: 1/1.. \n",
      "Training Loss: 1.9363..  Test Loss: 1.0918..  Test Accuracy: 0.6603\n",
      "Training Loss: 1.0398..  Test Loss: 0.6290..  Test Accuracy: 0.7999\n",
      "Training Loss: 0.7456..  Test Loss: 0.4959..  Test Accuracy: 0.8483\n",
      "Training Loss: 0.6424..  Test Loss: 0.4478..  Test Accuracy: 0.8605\n",
      "Training Loss: 0.6003..  Test Loss: 0.3816..  Test Accuracy: 0.8854\n",
      "=== Model #2/6 ===\n",
      "Epoch: 1/1.. \n",
      "Training Loss: 1.8987..  Test Loss: 1.0516..  Test Accuracy: 0.6536\n",
      "Training Loss: 1.0359..  Test Loss: 0.6429..  Test Accuracy: 0.8056\n",
      "Training Loss: 0.7404..  Test Loss: 0.4679..  Test Accuracy: 0.8561\n",
      "Training Loss: 0.6503..  Test Loss: 0.4299..  Test Accuracy: 0.8704\n",
      "Training Loss: 0.5703..  Test Loss: 0.3824..  Test Accuracy: 0.8828\n",
      "=== Model #3/6 ===\n",
      "Epoch: 1/1.. \n",
      "Training Loss: 1.8612..  Test Loss: 0.9238..  Test Accuracy: 0.6884\n",
      "Training Loss: 1.0169..  Test Loss: 0.6275..  Test Accuracy: 0.7977\n",
      "Training Loss: 0.7675..  Test Loss: 0.4879..  Test Accuracy: 0.8446\n",
      "Training Loss: 0.6672..  Test Loss: 0.3996..  Test Accuracy: 0.8811\n",
      "Training Loss: 0.5974..  Test Loss: 0.3692..  Test Accuracy: 0.8869\n",
      "=== Model #4/6 ===\n",
      "Epoch: 1/1.. \n",
      "Training Loss: 1.9499..  Test Loss: 0.9763..  Test Accuracy: 0.6709\n",
      "Training Loss: 0.9398..  Test Loss: 0.5701..  Test Accuracy: 0.7997\n",
      "Training Loss: 0.6977..  Test Loss: 0.4682..  Test Accuracy: 0.8516\n",
      "Training Loss: 0.5962..  Test Loss: 0.3879..  Test Accuracy: 0.8856\n",
      "Training Loss: 0.5646..  Test Loss: 0.3921..  Test Accuracy: 0.8775\n",
      "=== Model #5/6 ===\n",
      "Epoch: 1/1.. \n",
      "Training Loss: 1.8945..  Test Loss: 1.0197..  Test Accuracy: 0.6773\n",
      "Training Loss: 1.0694..  Test Loss: 0.6321..  Test Accuracy: 0.8112\n",
      "Training Loss: 0.8339..  Test Loss: 0.4955..  Test Accuracy: 0.8482\n",
      "Training Loss: 0.6645..  Test Loss: 0.3998..  Test Accuracy: 0.8751\n",
      "Training Loss: 0.5375..  Test Loss: 0.3569..  Test Accuracy: 0.8936\n",
      "=== Model #6/6 ===\n",
      "Epoch: 1/1.. \n",
      "Training Loss: 1.8587..  Test Loss: 0.9674..  Test Accuracy: 0.7237\n",
      "Training Loss: 0.9877..  Test Loss: 0.6181..  Test Accuracy: 0.8111\n",
      "Training Loss: 0.7449..  Test Loss: 0.4533..  Test Accuracy: 0.8621\n",
      "Training Loss: 0.6181..  Test Loss: 0.4016..  Test Accuracy: 0.8781\n",
      "Training Loss: 0.5800..  Test Loss: 0.3575..  Test Accuracy: 0.8915\n"
     ]
    },
    {
     "data": {
      "text/plain": [
       "<matplotlib.legend.Legend at 0x7fa7a5980390>"
      ]
     },
     "execution_count": 8,
     "metadata": {},
     "output_type": "execute_result"
    },
    {
     "data": {
      "image/png": "[encoded data removed]",
      "text/plain": [
       "<Figure size 432x288 with 1 Axes>"
      ]
     },
     "metadata": {
      "needs_background": "light"
     },
     "output_type": "display_data"
    }
   ],
   "source": [
    "# Define a network model\n",
    "criterion = nn.NLLLoss()\n",
    "\n",
    "# Train a different model for each dataset\n",
    "models = list()\n",
    "for i in range(no_datasets):\n",
    "    print(\"=== Model #{}/{} ===\".format(i + 1, no_datasets))\n",
    "    model = Network(784, 10, [512, 256, 128])\n",
    "    optimizer = optim.Adam(model.parameters(), lr=0.001) # low learning rate to simulate real life\n",
    "    \n",
    "    device = torch.device(\"cuda\" if torch.cuda.is_available() else \"cpu\")\n",
    "    model.to(device)\n",
    "    \n",
    "    acc = train(model, train_dataloaders[i], dataloader_test, criterion, optimizer, epochs=1)\n",
    "    plt.plot(acc, label=('Accuracy #' + str(i)))\n",
    "    models.append(model)\n",
    "plt.legend(frameon=False)"
   ]
  },
  {
   "cell_type": "markdown",
   "metadata": {},
   "source": [
    "## 5. Using the models to create predictions"
   ]
  },
  {
   "cell_type": "code",
   "execution_count": 9,
   "metadata": {},
   "outputs": [],
   "source": [
    "# Predicting the outputs\n",
    "def predict():\n",
    "    predictions = torch.torch.zeros((len(models), dataset_size // no_datasets), dtype=torch.long)\n",
    "\n",
    "    for i, model in enumerate(models):\n",
    "        prediction = torch.zeros(0, dtype=torch.long).to(device)\n",
    "        \n",
    "        for images, labels in dataloader_test:\n",
    "            images, labels = images.to(device), labels.to(device) # training on CUDA, if possible\n",
    "\n",
    "            images = images.resize_(images.size()[0], 784)\n",
    "            output = model.forward(images)\n",
    "            ps = torch.argmax(torch.exp(output), dim=1)\n",
    "            prediction = torch.cat((prediction, ps))\n",
    "            \n",
    "        predictions[i] = prediction\n",
    "\n",
    "    return predictions.numpy()"
   ]
  },
  {
   "cell_type": "code",
   "execution_count": 10,
   "metadata": {},
   "outputs": [],
   "source": [
    "# Normalizing the predictions and getting the consensus\n",
    "def normalising(predictions, epsilon):\n",
    "    temp = [[] for i in range(len(predictions[0]))]\n",
    "\n",
    "    for l in predictions:\n",
    "        for i in range(len(l)):\n",
    "            temp[i].append(l[i])\n",
    "\n",
    "    consensus = list()\n",
    "    \n",
    "    for p in temp:\n",
    "\n",
    "        label_counts = np.bincount(p, minlength=10)\n",
    "\n",
    "        beta = 1 / epsilon\n",
    "\n",
    "        for i in range(len(label_counts)):\n",
    "            label_counts[i] += np.random.laplace(0, beta, 1)\n",
    "\n",
    "        new_label = np.argmax(label_counts)\n",
    "\n",
    "        consensus.append(new_label)\n",
    "\n",
    "    consensus = np.asarray(consensus)\n",
    "    return consensus"
   ]
  },
  {
   "cell_type": "code",
   "execution_count": 11,
   "metadata": {},
   "outputs": [],
   "source": [
    "eps = 0.5\n",
    "\n",
    "predictions = predict()\n",
    "consensus = normalising(predictions, eps)"
   ]
  },
  {
   "cell_type": "markdown",
   "metadata": {},
   "source": [
    "## 6. PATE Analysis"
   ]
  },
  {
   "cell_type": "code",
   "execution_count": 12,
   "metadata": {},
   "outputs": [
    {
     "name": "stdout",
     "output_type": "stream",
     "text": [
      "Warning: May not have used enough values of l. Increase 'moments' variable and run again.\n",
      "Data Independent Epsilon: 10002.878231366243\n",
      "Data Dependent Epsilon: 10002.878231366243\n"
     ]
    }
   ],
   "source": [
    "data_dep_eps, data_ind_eps = pate.perform_analysis(teacher_preds=np.asarray(predictions), indices=consensus, noise_eps=eps, delta=1e-5, moments=4)\n",
    "\n",
    "print(\"Data Independent Epsilon:\", data_ind_eps)\n",
    "print(\"Data Dependent Epsilon:\", data_dep_eps)"
   ]
  },
  {
   "cell_type": "markdown",
   "metadata": {},
   "source": [
    "## 7. Training our model"
   ]
  },
  {
   "cell_type": "markdown",
   "metadata": {},
   "source": [
    "Hypothesis - we have a private dataset (in this experiment dataset_test), unlabeled, and we use the consensus prediction from the sister-models, using the privacy determined by the data dependent epsilon above to train our model. Consequently, we can both train our model privately, never exchanging data between us and an external party (with the specific privacy). Obviously the accuracy is lower than when we would train without adding noise to our data, just taking the `argmax` of the predictions."
   ]
  },
  {
   "cell_type": "markdown",
   "metadata": {},
   "source": [
    "### Adding the predicted consensus label to our private dataset"
   ]
  },
  {
   "cell_type": "code",
   "execution_count": 13,
   "metadata": {},
   "outputs": [],
   "source": [
    "# we will use dataloader_test to simulate our private dataset even though\n",
    "# in real life it would be a completey different one\n",
    "# private_loader(dataloader_test, consensus)\n",
    "\n",
    "def private_loader(trainloader, new_labels):\n",
    "    for i, (data, _) in enumerate(iter(trainloader)):\n",
    "        new_label = torch.from_numpy(new_labels[i*len(data):(i+1)*len(data)])\n",
    "        yield data, new_label"
   ]
  },
  {
   "cell_type": "markdown",
   "metadata": {},
   "source": [
    "### Training and evaluating our model"
   ]
  },
  {
   "cell_type": "code",
   "execution_count": 14,
   "metadata": {},
   "outputs": [
    {
     "name": "stdout",
     "output_type": "stream",
     "text": [
      "Epoch: 1/1.. \n",
      "Training Loss: 2.1997..  Test Loss: 1.6949..  Test Accuracy: 0.4269\n",
      "Training Loss: 1.9977..  Test Loss: 1.4514..  Test Accuracy: 0.6677\n",
      "Training Loss: 1.8806..  Test Loss: 1.2718..  Test Accuracy: 0.7193\n",
      "Training Loss: 1.7804..  Test Loss: 1.0204..  Test Accuracy: 0.7909\n",
      "Training Loss: 1.7630..  Test Loss: 1.1503..  Test Accuracy: 0.8118\n"
     ]
    },
    {
     "data": {
      "text/plain": [
       "<matplotlib.legend.Legend at 0x7fa7a5980a90>"
      ]
     },
     "execution_count": 14,
     "metadata": {},
     "output_type": "execute_result"
    },
    {
     "data": {
      "image/png": "[encoded data removed]",
      "text/plain": [
       "<Figure size 432x288 with 1 Axes>"
      ]
     },
     "metadata": {
      "needs_background": "light"
     },
     "output_type": "display_data"
    }
   ],
   "source": [
    "# Define a network model\n",
    "model = Network(784, 10, [512, 256, 128])\n",
    "criterion = nn.NLLLoss()\n",
    "optimizer = optim.Adam(model.parameters(), lr=0.001) # low learning rate to simulate real life\n",
    "\n",
    "device = torch.device(\"cuda\" if torch.cuda.is_available() else \"cpu\")\n",
    "model.to(device)\n",
    "\n",
    "acc = train(model, private_loader(dataloader_test, consensus), dataloader_test, criterion, optimizer, epochs=1)\n",
    "\n",
    "plt.plot(acc, label=('Accuracy'))\n",
    "plt.legend(frameon=False)"
   ]
  }
 ],
 "metadata": {
  "kernelspec": {
   "display_name": "Python 3",
   "language": "python",
   "name": "python3"
  },
  "language_info": {
   "codemirror_mode": {
    "name": "ipython",
    "version": 3
   },
   "file_extension": ".py",
   "mimetype": "text/x-python",
   "name": "python",
   "nbconvert_exporter": "python",
   "pygments_lexer": "ipython3",
   "version": "3.6.8"
  }
 },
 "nbformat": 4,
 "nbformat_minor": 2
}
